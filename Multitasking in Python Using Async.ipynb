{
 "cells": [
  {
   "cell_type": "markdown",
   "metadata": {},
   "source": [
    "# Multitasking using `async / await` & `asyncio`\n",
    "\n",
    "http://bit.ly/pycon19-asyncio\n",
    "\n",
    "by Marte Soliza (marte@insynchq.com)"
   ]
  },
  {
   "cell_type": "markdown",
   "metadata": {},
   "source": [
    "## Multitasking\n",
    "\n",
    "* Multiple sequences of instructions (tasks) are executing concurrently."
   ]
  },
  {
   "cell_type": "markdown",
   "metadata": {},
   "source": [
    "### Process\n",
    "* Task in an operating system with their own independent resources.\n",
    "\n",
    "### Thread\n",
    "* Task within a process with shared resources.\n"
   ]
  },
  {
   "cell_type": "markdown",
   "metadata": {},
   "source": [
    "### Preemptive multitasking\n",
    "_Using native threads_"
   ]
  },
  {
   "cell_type": "code",
   "execution_count": null,
   "metadata": {},
   "outputs": [],
   "source": [
    "import threading\n",
    "import time\n",
    "\n",
    "\n",
    "class Counter:\n",
    "    \n",
    "    def __init__(self):\n",
    "        self.value = 0\n",
    "        \n",
    "    def increment(self):\n",
    "        self.value += 1\n",
    "    \n",
    "    def decrement(self):\n",
    "        self.value -= 1\n",
    "\n",
    "        \n",
    "def incrementer(counter, n, m):\n",
    "    for _ in range(n):\n",
    "        for _ in range(m):\n",
    "            counter.increment()\n",
    "        time.sleep(0.001)\n",
    "\n",
    "def decrementer(counter, n, m):\n",
    "    for _ in range(n):\n",
    "        for _ in range(m):\n",
    "            counter.decrement()\n",
    "        time.sleep(0.001)\n",
    "\n",
    "counter = Counter()\n",
    "threads = []\n",
    "for _ in range(4):\n",
    "    threads.append(threading.Thread(target=incrementer, args=(counter, 30, 40000)))\n",
    "    threads.append(threading.Thread(target=decrementer, args=(counter, 30, 40000)))\n",
    "    \n",
    "for thread in threads:\n",
    "    thread.start()\n",
    "    \n",
    "for thread in threads:\n",
    "    thread.join()\n",
    "    \n",
    "print(counter.value)"
   ]
  },
  {
   "cell_type": "markdown",
   "metadata": {},
   "source": [
    "Race condition! 🏎 Difficult to debug 🐞 (a _Heisenbug_).\n",
    "\n",
    "You can try tweaking the values above and see that lower values of `m` does not lead to race conditions."
   ]
  },
  {
   "cell_type": "code",
   "execution_count": null,
   "metadata": {},
   "outputs": [],
   "source": [
    "counter = Counter()\n",
    "threads = []\n",
    "for _ in range(4):\n",
    "    threads.append(threading.Thread(target=incrementer, args=(counter, 30, 4000)))\n",
    "    threads.append(threading.Thread(target=decrementer, args=(counter, 30, 4000)))\n",
    "    \n",
    "for thread in threads:\n",
    "    thread.start()\n",
    "    \n",
    "for thread in threads:\n",
    "    thread.join()\n",
    "    \n",
    "print(counter.value)"
   ]
  },
  {
   "cell_type": "code",
   "execution_count": null,
   "metadata": {
    "scrolled": true
   },
   "outputs": [],
   "source": [
    "import dis\n",
    "dis.dis(Counter.increment)"
   ]
  },
  {
   "cell_type": "markdown",
   "metadata": {},
   "source": [
    "\n",
    "| Time | Running | Thread 1 (inc) | Thread 2 (dec) |\n",
    "| ---- | ------- | -------------- | -------------- |\n",
    "| 0    | 2       | 1000           | 1000           |\n",
    "| 1    | 1       | 1002           | 1000           |\n",
    "| 2    | 1       | 1002           | 1000           |\n",
    "| 3    | 2       | 1002           | 999            |\n"
   ]
  },
  {
   "cell_type": "markdown",
   "metadata": {},
   "source": [
    "### Cooperative multitasking\n",
    "_Using asyncio & coroutines_"
   ]
  },
  {
   "cell_type": "code",
   "execution_count": null,
   "metadata": {},
   "outputs": [],
   "source": [
    "import asyncio\n",
    "\n",
    "\n",
    "class Counter:\n",
    "    \n",
    "    def __init__(self):\n",
    "        self.value = 0\n",
    "        \n",
    "    def increment(self):\n",
    "        self.value += 1\n",
    "    \n",
    "    def decrement(self):\n",
    "        self.value -= 1\n",
    "\n",
    "\n",
    "async def incrementer(counter, n, m):\n",
    "    for _ in range(n):\n",
    "        for _ in range(m):\n",
    "            counter.increment()\n",
    "        await asyncio.sleep(0.001)\n",
    "\n",
    "async def decrementer(counter, n, m):\n",
    "    for _ in range(n):\n",
    "        for _ in range(m):\n",
    "            counter.decrement()\n",
    "        await asyncio.sleep(0.001)\n",
    "\n",
    "counter = Counter()\n",
    "tasks = []\n",
    "for _ in range(4):\n",
    "    tasks.append(asyncio.create_task(incrementer(counter, 30, 40000)))\n",
    "    tasks.append(asyncio.create_task(decrementer(counter, 30, 40000)))\n",
    "\n",
    "# IMPORTANT: You can only do this on the top level in Jupyter Notebook (or IPython).\n",
    "await asyncio.wait(tasks)\n",
    "# Normally, you have to do something like this:\n",
    "# asyncio.run(asyncio.wait(tasks))\n",
    "\n",
    "print(counter.value)"
   ]
  },
  {
   "cell_type": "markdown",
   "metadata": {},
   "source": [
    "## Usage"
   ]
  },
  {
   "cell_type": "code",
   "execution_count": null,
   "metadata": {},
   "outputs": [],
   "source": [
    "import asyncio\n",
    "\n",
    "async def hello():\n",
    "    print(\"Hello\")\n",
    "    await asyncio.sleep(3.0)\n",
    "    print(\"World!\")\n",
    "    \n",
    "await hello()\n",
    "# IMPORTANT: You can only do the above in Jupyter Notebook (or IPython). Normally, you'll have to run it like this:\n",
    "#asyncio.run(hello())"
   ]
  },
  {
   "cell_type": "markdown",
   "metadata": {},
   "source": [
    "### `async`\n",
    "* Coroutine & couroutine functions"
   ]
  },
  {
   "cell_type": "code",
   "execution_count": null,
   "metadata": {
    "scrolled": false
   },
   "outputs": [],
   "source": [
    "async def coro_fn(): # couroutine function\n",
    "    print(\"Hello\")\n",
    "    \n",
    "coro = coro_fn() # coroutine\n",
    "\n",
    "print(type(coro_fn))\n",
    "print(type(coro))"
   ]
  },
  {
   "cell_type": "markdown",
   "metadata": {},
   "source": [
    "Couroutines are pretty much like generators."
   ]
  },
  {
   "cell_type": "code",
   "execution_count": null,
   "metadata": {},
   "outputs": [],
   "source": [
    "coro.send(None)"
   ]
  },
  {
   "cell_type": "markdown",
   "metadata": {},
   "source": [
    "### `await`\n",
    "* Awaitables"
   ]
  },
  {
   "cell_type": "code",
   "execution_count": null,
   "metadata": {},
   "outputs": [],
   "source": [
    "async def count():\n",
    "    for i in range(10):\n",
    "        print(i)\n",
    "        await asyncio.sleep(1)\n",
    "\n",
    "await count()"
   ]
  },
  {
   "cell_type": "markdown",
   "metadata": {},
   "source": [
    "### Task"
   ]
  },
  {
   "cell_type": "code",
   "execution_count": null,
   "metadata": {
    "scrolled": true
   },
   "outputs": [],
   "source": [
    "import asyncio\n",
    "\n",
    "async def count():\n",
    "    for i in range(10):\n",
    "        print(i)\n",
    "        await asyncio.sleep(1)\n",
    "\n",
    "task = asyncio.create_task(count())\n",
    "asyncio.get_running_loop().call_later(3, task.cancel)\n",
    "await task"
   ]
  },
  {
   "cell_type": "markdown",
   "metadata": {},
   "source": [
    "### Future"
   ]
  },
  {
   "cell_type": "code",
   "execution_count": null,
   "metadata": {},
   "outputs": [],
   "source": [
    "import asyncio\n",
    "\n",
    "fut = asyncio.get_running_loop().create_future()\n",
    "\n",
    "async def hello(fut):\n",
    "    print(\"Hello\")\n",
    "    fut.set_result(\"World\")\n",
    "\n",
    "async def world(fut):\n",
    "    print(await fut)\n",
    "\n",
    "await asyncio.gather(world(fut), hello(fut))"
   ]
  },
  {
   "cell_type": "markdown",
   "metadata": {},
   "source": [
    "### Event Loop\n",
    "* What actually runs."
   ]
  },
  {
   "cell_type": "code",
   "execution_count": null,
   "metadata": {},
   "outputs": [],
   "source": [
    "import asyncio\n",
    "asyncio.get_running_loop()"
   ]
  },
  {
   "cell_type": "markdown",
   "metadata": {},
   "source": [
    "## Advantages"
   ]
  },
  {
   "cell_type": "markdown",
   "metadata": {},
   "source": [
    "### Explicit is better than implicit\n",
    "* You know the places where a coroutine can possibly be suspended.\n",
    "* Transitivity of coroutines."
   ]
  },
  {
   "cell_type": "code",
   "execution_count": null,
   "metadata": {},
   "outputs": [],
   "source": [
    "async def fn1():\n",
    "    print(\"Hello\")\n",
    "    await asyncio.sleep(0.5)\n",
    "    print(\"World\")\n",
    "\n",
    "async def fn2():\n",
    "    print(\"Begin\")\n",
    "    await fn1()\n",
    "    print(\"End\")\n",
    "    \n",
    "await fn2()"
   ]
  },
  {
   "cell_type": "markdown",
   "metadata": {},
   "source": [
    "### Lightweight"
   ]
  },
  {
   "cell_type": "code",
   "execution_count": null,
   "metadata": {},
   "outputs": [],
   "source": [
    "import time\n",
    "import asyncio\n",
    "\n",
    "async def idle():\n",
    "    await asyncio.sleep(5)\n",
    "\n",
    "coros = [idle() for _ in range(10**5)]\n",
    "\n",
    "t = time.time()    \n",
    "await asyncio.wait(coros)\n",
    "print(time.time() - t)"
   ]
  },
  {
   "cell_type": "code",
   "execution_count": null,
   "metadata": {},
   "outputs": [],
   "source": [
    "import threading\n",
    "import time\n",
    "\n",
    "def idle():\n",
    "    time.sleep(5)\n",
    "    \n",
    "threads = [threading.Thread(target=idle) for _ in range(10**5)]\n",
    "\n",
    "t = time.time()\n",
    "for thread in threads:\n",
    "    thread.start()\n",
    "for thread in threads:\n",
    "    thread.join()\n",
    "print(time.time() - t)"
   ]
  },
  {
   "cell_type": "markdown",
   "metadata": {},
   "source": [
    "### Better control"
   ]
  },
  {
   "cell_type": "markdown",
   "metadata": {},
   "source": [
    "#### Cancel"
   ]
  },
  {
   "cell_type": "code",
   "execution_count": null,
   "metadata": {},
   "outputs": [],
   "source": [
    "import asyncio\n",
    "\n",
    "async def count():\n",
    "    for i in range(10):\n",
    "        print(i)\n",
    "        await asyncio.sleep(1)\n",
    "\n",
    "task = asyncio.create_task(count())\n",
    "asyncio.get_running_loop().call_later(3, task.cancel)\n",
    "await task"
   ]
  },
  {
   "cell_type": "markdown",
   "metadata": {},
   "source": [
    "#### Timeout"
   ]
  },
  {
   "cell_type": "code",
   "execution_count": null,
   "metadata": {},
   "outputs": [],
   "source": [
    "import asyncio\n",
    "\n",
    "async def count():\n",
    "    for i in range(10):\n",
    "        print(i)\n",
    "        await asyncio.sleep(1)\n",
    "\n",
    "task = asyncio.create_task(count())\n",
    "\n",
    "await asyncio.wait_for(task, 3)"
   ]
  },
  {
   "cell_type": "markdown",
   "metadata": {},
   "source": [
    "### Problem: Restaurant Simulator"
   ]
  },
  {
   "cell_type": "code",
   "execution_count": null,
   "metadata": {},
   "outputs": [],
   "source": [
    "from collections import namedtuple\n",
    "from concurrent.futures import Future\n",
    "import random\n",
    "import threading\n",
    "import queue\n",
    "import enum\n",
    "import time\n",
    "\n",
    "\n",
    "class Event(enum.Enum):\n",
    "    ENTER = enum.auto()\n",
    "    ORDER = enum.auto()\n",
    "    READY = enum.auto()\n",
    "    LEAVE = enum.auto()\n",
    "    \n",
    "Dish = namedtuple(\"Dish\", \"name cooking_time\")\n",
    "\n",
    "class Restaurant:\n",
    "    def __init__(self, menu, num_tables):\n",
    "        self.menu = menu\n",
    "        \n",
    "        self._tables = [False] * num_tables\n",
    "        self._tables_lock = threading.Lock()        \n",
    "        self._waiting_customers = []\n",
    "        self._waiting_customers_lock = threading.Lock()\n",
    "        \n",
    "        self._orders = [None] * num_tables\n",
    "        self._ordered_dishes = []\n",
    "        self._ordered_dishes_cond = threading.Condition()\n",
    "        self._ready_dishes = []\n",
    "        self._ready_dishes_lock = threading.Lock()\n",
    "        \n",
    "        self._events_queue = queue.Queue()\n",
    "        \n",
    "    def enter(self):\n",
    "        fut = Future()\n",
    "        self._events_queue.put((Event.ENTER, fut))\n",
    "        return fut.result()\n",
    "    \n",
    "    def order_food(self, table_id, dishes):\n",
    "        dish_events = []\n",
    "        orders = []\n",
    "        for dish in dishes:\n",
    "            dish_event = threading.Event()\n",
    "            orders.append((dish, dish_event))\n",
    "        self._orders[table_id] = orders\n",
    "        # Call waiter and place the orders.\n",
    "        self._events_queue.put((Event.ORDER, table_id))\n",
    "        \n",
    "    def wait_for_food(self, table_id):\n",
    "        # Wait for ALL the dishes to be delivered.\n",
    "        orders = self._orders[table_id]\n",
    "        for dish, dish_event in orders:\n",
    "            dish_event.wait()\n",
    "    \n",
    "    def leave(self, table_id):\n",
    "        # Leave the table.\n",
    "        self._tables[table_id] = False\n",
    "        self._events_queue.put((Event.LEAVE,))\n",
    "\n",
    "    def waiter(self, waiter_id):\n",
    "        while True:\n",
    "            event = self._events_queue.get()\n",
    "            if event[0] == Event.ENTER:\n",
    "                # Attempt to seat a new customer.\n",
    "                with self._tables_lock:\n",
    "                    for table_id, occupied in enumerate(self._tables):\n",
    "                        if not occupied:\n",
    "                            # Table found!\n",
    "                            self._tables[table_id] = True\n",
    "                            event[1].set_result(table_id)\n",
    "                            break\n",
    "                    else:\n",
    "                        # No available table, make them wait.\n",
    "                        self._waiting_customers.append(event[1])\n",
    "                time.sleep(1)\n",
    "            elif event[0] == Event.ORDER:\n",
    "                # Take orders.\n",
    "                table_id = event[1]\n",
    "                # Queue the orders for the cooks.\n",
    "                with self._ordered_dishes_cond:\n",
    "                    for dish, dish_event in self._orders[table_id]:\n",
    "                        self._ordered_dishes.append((table_id, dish))\n",
    "                    self._ordered_dishes_cond.notify_all()\n",
    "                time.sleep(2)\n",
    "            elif event[0] == Event.READY:\n",
    "                # Deliver food.\n",
    "                table_id, dish = self._ready_dishes.pop(0)\n",
    "                for dish, dish_event in self._orders[table_id]:\n",
    "                    dish_event.set()\n",
    "                time.sleep(3)\n",
    "            elif event[0] == Event.LEAVE:\n",
    "                with self._waiting_customers_lock:\n",
    "                    if not self._waiting_customers:\n",
    "                        continue\n",
    "                    # Seat a waiting customer.\n",
    "                    with self._tables_lock:\n",
    "                        for table_id, occupied in enumerate(self._tables):\n",
    "                            if not occupied:\n",
    "                                self._tables[table_id] = True\n",
    "                                self._waiting_customers.pop(0).set_result(table_id)\n",
    "                                break\n",
    "                time.sleep(1)\n",
    "\n",
    "\n",
    "    def cook(self, cook_id):\n",
    "        while True:\n",
    "            with self._ordered_dishes_cond:\n",
    "                # Wait for orders.\n",
    "                self._ordered_dishes_cond.wait_for(lambda: len(self._ordered_dishes) > 0)\n",
    "                # There can be different strategies for cooking. This one is just FIFO (first in, first out).\n",
    "                table_id, dish = self._ordered_dishes.pop(0)\n",
    "            time.sleep(dish.cooking_time)\n",
    "            self._ready_dishes.append((table_id, dish))\n",
    "            self._events_queue.put((Event.READY,))\n",
    "\n",
    "def customer(customer_id, restaurant):\n",
    "    print(f\"Customer {customer_id} enters\")\n",
    "    t = time.time()\n",
    "    table_id = restaurant.enter()\n",
    "    print(f\"Customer {customer_id} is seated at Table {table_id} (waited for {time.time() - t:.0f}min)\")\n",
    "    \n",
    "    num_dishes = random.randint(1, 3)\n",
    "    dishes = random.sample(restaurant.menu, num_dishes)\n",
    "    dish_names = \", \".join(dish.name for dish in dishes)\n",
    "    print(f\"Customer {customer_id} orders {dish_names}\")\n",
    "    restaurant.order_food(table_id, dishes)\n",
    "    \n",
    "    t = time.time()\n",
    "    restaurant.wait_for_food(table_id)\n",
    "    \n",
    "    print(f\"Customer {customer_id} is ready to eat (waited for {time.time() - t:.0f}min)\")\n",
    "    # Eat.\n",
    "    time.sleep(num_dishes * 10)\n",
    "    \n",
    "    restaurant.leave(table_id)\n",
    "    print(f\"Customer {customer_id} leaves\")\n",
    "\n",
    "\n",
    "def simulate(restaurant, num_waiters, num_cooks, customer_rate):\n",
    "    for waiter_id in range(num_waiters):\n",
    "        threading.Thread(target=restaurant.waiter, args=(waiter_id,)).start()\n",
    "    for cook_id in range(num_cooks):\n",
    "        threading.Thread(target=restaurant.cook, args=(cook_id,)).start()\n",
    "    num_customers = 0\n",
    "    while True:\n",
    "        num_customers += 1\n",
    "        threading.Thread(target=customer, args=(num_customers, restaurant)).start()\n",
    "        time.sleep(1.0 / customer_rate)\n"
   ]
  },
  {
   "cell_type": "code",
   "execution_count": null,
   "metadata": {
    "scrolled": true
   },
   "outputs": [],
   "source": [
    "random.seed(0)\n",
    "restaurant = Restaurant([Dish(\"Sinigang\", 15), Dish(\"Adobo\", 10), Dish(\"Afritada\", 12), Dish(\"Chopsuey\", 8)], 8)\n",
    "simulate(restaurant, 3, 2, 0.5)"
   ]
  },
  {
   "cell_type": "markdown",
   "metadata": {},
   "source": [
    "## Gotchas"
   ]
  },
  {
   "cell_type": "markdown",
   "metadata": {},
   "source": [
    "### Uncooperative tasks (hoarding its share of the event loop)"
   ]
  },
  {
   "cell_type": "code",
   "execution_count": null,
   "metadata": {
    "scrolled": true
   },
   "outputs": [],
   "source": [
    "import asyncio\n",
    "import hashlib\n",
    "\n",
    "async def count(n):\n",
    "    for i in range(n):\n",
    "        print(i)\n",
    "        await asyncio.sleep(0.5)\n",
    "\n",
    "async def calculate(n):\n",
    "    h = hashlib.sha256()\n",
    "    for i in range(n):\n",
    "        h = hashlib.sha256(h.digest())\n",
    "    print(f\"Done calculating {n}\")\n",
    "    return h.hexdigest()\n",
    "\n",
    "await asyncio.gather(count(20), calculate(5000000))"
   ]
  },
  {
   "cell_type": "markdown",
   "metadata": {},
   "source": [
    "#### Solution 1: yield every now and then\n",
    "* Abstraction leak -- you have to tweak"
   ]
  },
  {
   "cell_type": "code",
   "execution_count": null,
   "metadata": {
    "scrolled": true
   },
   "outputs": [],
   "source": [
    "async def calculate1(n):\n",
    "    h = hashlib.sha256()\n",
    "    for i in range(n):\n",
    "        h = hashlib.sha256(h.digest())\n",
    "        if i % 10000 == 0:\n",
    "            await asyncio.sleep(0)\n",
    "    print(f\"Done calculating {n}\")\n",
    "    return h.hexdigest()\n",
    "\n",
    "await asyncio.gather(count(20), calculate1(5000000))"
   ]
  },
  {
   "cell_type": "markdown",
   "metadata": {},
   "source": [
    "#### Solution 2: Run in a separate thread\n",
    "* Be careful though! 😱"
   ]
  },
  {
   "cell_type": "code",
   "execution_count": null,
   "metadata": {
    "scrolled": false
   },
   "outputs": [],
   "source": [
    "async def calculate2(n):\n",
    "    def compute():\n",
    "        h = hashlib.sha256()\n",
    "        for i in range(n):\n",
    "            h = hashlib.sha256(h.digest())\n",
    "        return h.hexdigest()\n",
    "\n",
    "    result = await asyncio.get_running_loop().run_in_executor(None, compute)\n",
    "    print(f\"Done calculating {n}\")\n",
    "    return result\n",
    "\n",
    "await asyncio.gather(count(20), calculate2(5000000))"
   ]
  },
  {
   "cell_type": "markdown",
   "metadata": {},
   "source": [
    "### Not awaiting a coroutine"
   ]
  },
  {
   "cell_type": "code",
   "execution_count": null,
   "metadata": {
    "scrolled": false
   },
   "outputs": [],
   "source": [
    "count(10)\n",
    "print(\"Hello world!\")"
   ]
  },
  {
   "cell_type": "markdown",
   "metadata": {},
   "source": [
    "### Swallowed exceptions"
   ]
  },
  {
   "cell_type": "code",
   "execution_count": null,
   "metadata": {},
   "outputs": [],
   "source": [
    "async def task():\n",
    "    await asyncio.sleep(1)\n",
    "    do_something()\n",
    "    \n",
    "class Runner:\n",
    "    \n",
    "    async def run(self):\n",
    "        self.task = asyncio.create_task(task())\n",
    "\n",
    "runner = Runner()\n",
    "await runner.run()"
   ]
  },
  {
   "cell_type": "code",
   "execution_count": null,
   "metadata": {
    "scrolled": false
   },
   "outputs": [],
   "source": [
    "runner = None"
   ]
  },
  {
   "cell_type": "markdown",
   "metadata": {},
   "source": [
    "#### Enable debug mode to get more info"
   ]
  },
  {
   "cell_type": "code",
   "execution_count": null,
   "metadata": {},
   "outputs": [],
   "source": [
    "asyncio.get_running_loop().set_debug(True)"
   ]
  },
  {
   "cell_type": "code",
   "execution_count": null,
   "metadata": {},
   "outputs": [],
   "source": [
    "await asyncio.gather(count(20), calculate(5000000))"
   ]
  },
  {
   "cell_type": "code",
   "execution_count": null,
   "metadata": {},
   "outputs": [],
   "source": [
    "count(10)\n",
    "print(\"Hello world!\")"
   ]
  },
  {
   "cell_type": "code",
   "execution_count": null,
   "metadata": {},
   "outputs": [],
   "source": [
    "runner = Runner()\n",
    "await runner.run()\n",
    "del runner"
   ]
  },
  {
   "cell_type": "code",
   "execution_count": null,
   "metadata": {},
   "outputs": [],
   "source": []
  }
 ],
 "metadata": {
  "kernelspec": {
   "display_name": "Python 3",
   "language": "python",
   "name": "python3"
  },
  "language_info": {
   "codemirror_mode": {
    "name": "ipython",
    "version": 3
   },
   "file_extension": ".py",
   "mimetype": "text/x-python",
   "name": "python",
   "nbconvert_exporter": "python",
   "pygments_lexer": "ipython3",
   "version": "3.7.2"
  }
 },
 "nbformat": 4,
 "nbformat_minor": 2
}
